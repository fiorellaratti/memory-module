{
 "cells": [
  {
   "cell_type": "code",
   "execution_count": 3,
   "metadata": {},
   "outputs": [
    {
     "name": "stderr",
     "output_type": "stream",
     "text": [
      "llama_model_loader: loaded meta data with 22 key-value pairs and 291 tensors from /home/frattitamayo/.cache/huggingface/hub/models--NousResearch--Hermes-2-Pro-Mistral-7B-GGUF/snapshots/594e3e33f57a2b8693972e6bf48ae4eff404f170/Hermes-2-Pro-Mistral-7B.Q5_K_M.gguf (version GGUF V3 (latest))\n",
      "llama_model_loader: Dumping metadata keys/values. Note: KV overrides do not apply in this output.\n",
      "llama_model_loader: - kv   0:                       general.architecture str              = llama\n",
      "llama_model_loader: - kv   1:                               general.name str              = jeffq\n",
      "llama_model_loader: - kv   2:                       llama.context_length u32              = 32768\n",
      "llama_model_loader: - kv   3:                     llama.embedding_length u32              = 4096\n",
      "llama_model_loader: - kv   4:                          llama.block_count u32              = 32\n",
      "llama_model_loader: - kv   5:                  llama.feed_forward_length u32              = 14336\n",
      "llama_model_loader: - kv   6:                 llama.rope.dimension_count u32              = 128\n",
      "llama_model_loader: - kv   7:                 llama.attention.head_count u32              = 32\n",
      "llama_model_loader: - kv   8:              llama.attention.head_count_kv u32              = 8\n",
      "llama_model_loader: - kv   9:     llama.attention.layer_norm_rms_epsilon f32              = 0.000010\n",
      "llama_model_loader: - kv  10:                       llama.rope.freq_base f32              = 10000.000000\n",
      "llama_model_loader: - kv  11:                          general.file_type u32              = 17\n",
      "llama_model_loader: - kv  12:                       tokenizer.ggml.model str              = llama\n",
      "llama_model_loader: - kv  13:                      tokenizer.ggml.tokens arr[str,32032]   = [\"<unk>\", \"<s>\", \"</s>\", \"<0x00>\", \"<...\n",
      "llama_model_loader: - kv  14:                      tokenizer.ggml.scores arr[f32,32032]   = [0.000000, 0.000000, 0.000000, 0.0000...\n",
      "llama_model_loader: - kv  15:                  tokenizer.ggml.token_type arr[i32,32032]   = [2, 3, 3, 6, 6, 6, 6, 6, 6, 6, 6, 6, ...\n",
      "llama_model_loader: - kv  16:                tokenizer.ggml.bos_token_id u32              = 1\n",
      "llama_model_loader: - kv  17:                tokenizer.ggml.eos_token_id u32              = 32000\n",
      "llama_model_loader: - kv  18:               tokenizer.ggml.add_bos_token bool             = true\n",
      "llama_model_loader: - kv  19:               tokenizer.ggml.add_eos_token bool             = false\n",
      "llama_model_loader: - kv  20:                    tokenizer.chat_template str              = {% for message in messages %}{{'<|im_...\n",
      "llama_model_loader: - kv  21:               general.quantization_version u32              = 2\n",
      "llama_model_loader: - type  f32:   65 tensors\n",
      "llama_model_loader: - type q5_K:  193 tensors\n",
      "llama_model_loader: - type q6_K:   33 tensors\n",
      "llm_load_vocab: special tokens definition check successful ( 291/32032 ).\n",
      "llm_load_print_meta: format           = GGUF V3 (latest)\n",
      "llm_load_print_meta: arch             = llama\n",
      "llm_load_print_meta: vocab type       = SPM\n",
      "llm_load_print_meta: n_vocab          = 32032\n",
      "llm_load_print_meta: n_merges         = 0\n",
      "llm_load_print_meta: n_ctx_train      = 32768\n",
      "llm_load_print_meta: n_embd           = 4096\n",
      "llm_load_print_meta: n_head           = 32\n",
      "llm_load_print_meta: n_head_kv        = 8\n",
      "llm_load_print_meta: n_layer          = 32\n",
      "llm_load_print_meta: n_rot            = 128\n",
      "llm_load_print_meta: n_embd_head_k    = 128\n",
      "llm_load_print_meta: n_embd_head_v    = 128\n",
      "llm_load_print_meta: n_gqa            = 4\n",
      "llm_load_print_meta: n_embd_k_gqa     = 1024\n",
      "llm_load_print_meta: n_embd_v_gqa     = 1024\n",
      "llm_load_print_meta: f_norm_eps       = 0.0e+00\n",
      "llm_load_print_meta: f_norm_rms_eps   = 1.0e-05\n",
      "llm_load_print_meta: f_clamp_kqv      = 0.0e+00\n",
      "llm_load_print_meta: f_max_alibi_bias = 0.0e+00\n",
      "llm_load_print_meta: n_ff             = 14336\n",
      "llm_load_print_meta: n_expert         = 0\n",
      "llm_load_print_meta: n_expert_used    = 0\n",
      "llm_load_print_meta: rope scaling     = linear\n",
      "llm_load_print_meta: freq_base_train  = 10000.0\n",
      "llm_load_print_meta: freq_scale_train = 1\n",
      "llm_load_print_meta: n_yarn_orig_ctx  = 32768\n",
      "llm_load_print_meta: rope_finetuned   = unknown\n",
      "llm_load_print_meta: model type       = 7B\n",
      "llm_load_print_meta: model ftype      = Q5_K - Medium\n",
      "llm_load_print_meta: model params     = 7.24 B\n",
      "llm_load_print_meta: model size       = 4.78 GiB (5.67 BPW) \n",
      "llm_load_print_meta: general.name     = jeffq\n",
      "llm_load_print_meta: BOS token        = 1 '<s>'\n",
      "llm_load_print_meta: EOS token        = 32000 '<|im_end|>'\n",
      "llm_load_print_meta: UNK token        = 0 '<unk>'\n",
      "llm_load_print_meta: LF token         = 13 '<0x0A>'\n",
      "llm_load_tensors: ggml ctx size =    0.11 MiB\n",
      "llm_load_tensors:        CPU buffer size =  4893.18 MiB\n",
      "...................................................................................................\n",
      "llama_new_context_with_model: n_ctx      = 512\n",
      "llama_new_context_with_model: freq_base  = 10000.0\n",
      "llama_new_context_with_model: freq_scale = 1\n",
      "llama_kv_cache_init:        CPU KV buffer size =    64.00 MiB\n",
      "llama_new_context_with_model: KV self size  =   64.00 MiB, K (f16):   32.00 MiB, V (f16):   32.00 MiB\n",
      "llama_new_context_with_model:        CPU input buffer size   =    10.01 MiB\n",
      "llama_new_context_with_model:        CPU compute buffer size =    72.00 MiB\n",
      "llama_new_context_with_model: graph splits (measure): 1\n",
      "AVX = 1 | AVX_VNNI = 0 | AVX2 = 1 | AVX512 = 0 | AVX512_VBMI = 0 | AVX512_VNNI = 0 | FMA = 1 | NEON = 0 | ARM_FMA = 0 | F16C = 1 | FP16_VA = 0 | WASM_SIMD = 0 | BLAS = 0 | SSE3 = 1 | SSSE3 = 1 | VSX = 0 | MATMUL_INT8 = 0 | \n",
      "Model metadata: {'tokenizer.chat_template': \"{% for message in messages %}{{'<|im_start|>' + message['role'] + '\\n' + message['content'] + '<|im_end|>' + '\\n'}}{% endfor %}{% if add_generation_prompt %}{{ '<|im_start|>assistant\\n' }}{% endif %}\", 'tokenizer.ggml.add_eos_token': 'false', 'tokenizer.ggml.eos_token_id': '32000', 'general.architecture': 'llama', 'llama.rope.freq_base': '10000.000000', 'llama.context_length': '32768', 'general.name': 'jeffq', 'tokenizer.ggml.add_bos_token': 'true', 'llama.embedding_length': '4096', 'llama.feed_forward_length': '14336', 'llama.attention.layer_norm_rms_epsilon': '0.000010', 'llama.rope.dimension_count': '128', 'tokenizer.ggml.bos_token_id': '1', 'llama.attention.head_count': '32', 'llama.block_count': '32', 'llama.attention.head_count_kv': '8', 'general.quantization_version': '2', 'tokenizer.ggml.model': 'llama', 'general.file_type': '17'}\n",
      "Guessed chat format: chatml\n",
      "\n",
      "llama_print_timings:        load time =     158.56 ms\n",
      "llama_print_timings:      sample time =       0.00 ms /     1 runs   (    0.00 ms per token,      inf tokens per second)\n",
      "llama_print_timings: prompt eval time =     158.45 ms /     5 tokens (   31.69 ms per token,    31.56 tokens per second)\n",
      "llama_print_timings:        eval time =       0.00 ms /     1 runs   (    0.00 ms per token,      inf tokens per second)\n",
      "llama_print_timings:       total time =     158.84 ms /     6 tokens\n"
     ]
    },
    {
     "name": "stdout",
     "output_type": "stream",
     "text": [
      "Wrapping\n",
      "[[ 0.00456122 -0.0056079   0.0126014  ...  0.00654539 -0.01670619\n",
      "   0.00164316]] (1, 4096)\n"
     ]
    },
    {
     "name": "stderr",
     "output_type": "stream",
     "text": [
      "llama_model_loader: loaded meta data with 22 key-value pairs and 291 tensors from /home/frattitamayo/.cache/huggingface/hub/models--NousResearch--Hermes-2-Pro-Mistral-7B-GGUF/snapshots/594e3e33f57a2b8693972e6bf48ae4eff404f170/Hermes-2-Pro-Mistral-7B.Q5_K_M.gguf (version GGUF V3 (latest))\n",
      "llama_model_loader: Dumping metadata keys/values. Note: KV overrides do not apply in this output.\n",
      "llama_model_loader: - kv   0:                       general.architecture str              = llama\n",
      "llama_model_loader: - kv   1:                               general.name str              = jeffq\n",
      "llama_model_loader: - kv   2:                       llama.context_length u32              = 32768\n",
      "llama_model_loader: - kv   3:                     llama.embedding_length u32              = 4096\n",
      "llama_model_loader: - kv   4:                          llama.block_count u32              = 32\n",
      "llama_model_loader: - kv   5:                  llama.feed_forward_length u32              = 14336\n",
      "llama_model_loader: - kv   6:                 llama.rope.dimension_count u32              = 128\n",
      "llama_model_loader: - kv   7:                 llama.attention.head_count u32              = 32\n",
      "llama_model_loader: - kv   8:              llama.attention.head_count_kv u32              = 8\n",
      "llama_model_loader: - kv   9:     llama.attention.layer_norm_rms_epsilon f32              = 0.000010\n",
      "llama_model_loader: - kv  10:                       llama.rope.freq_base f32              = 10000.000000\n",
      "llama_model_loader: - kv  11:                          general.file_type u32              = 17\n",
      "llama_model_loader: - kv  12:                       tokenizer.ggml.model str              = llama\n",
      "llama_model_loader: - kv  13:                      tokenizer.ggml.tokens arr[str,32032]   = [\"<unk>\", \"<s>\", \"</s>\", \"<0x00>\", \"<...\n",
      "llama_model_loader: - kv  14:                      tokenizer.ggml.scores arr[f32,32032]   = [0.000000, 0.000000, 0.000000, 0.0000...\n",
      "llama_model_loader: - kv  15:                  tokenizer.ggml.token_type arr[i32,32032]   = [2, 3, 3, 6, 6, 6, 6, 6, 6, 6, 6, 6, ...\n",
      "llama_model_loader: - kv  16:                tokenizer.ggml.bos_token_id u32              = 1\n",
      "llama_model_loader: - kv  17:                tokenizer.ggml.eos_token_id u32              = 32000\n",
      "llama_model_loader: - kv  18:               tokenizer.ggml.add_bos_token bool             = true\n",
      "llama_model_loader: - kv  19:               tokenizer.ggml.add_eos_token bool             = false\n",
      "llama_model_loader: - kv  20:                    tokenizer.chat_template str              = {% for message in messages %}{{'<|im_...\n",
      "llama_model_loader: - kv  21:               general.quantization_version u32              = 2\n",
      "llama_model_loader: - type  f32:   65 tensors\n",
      "llama_model_loader: - type q5_K:  193 tensors\n",
      "llama_model_loader: - type q6_K:   33 tensors\n",
      "llm_load_vocab: special tokens definition check successful ( 291/32032 ).\n",
      "llm_load_print_meta: format           = GGUF V3 (latest)\n",
      "llm_load_print_meta: arch             = llama\n",
      "llm_load_print_meta: vocab type       = SPM\n",
      "llm_load_print_meta: n_vocab          = 32032\n",
      "llm_load_print_meta: n_merges         = 0\n",
      "llm_load_print_meta: n_ctx_train      = 32768\n",
      "llm_load_print_meta: n_embd           = 4096\n",
      "llm_load_print_meta: n_head           = 32\n",
      "llm_load_print_meta: n_head_kv        = 8\n",
      "llm_load_print_meta: n_layer          = 32\n",
      "llm_load_print_meta: n_rot            = 128\n",
      "llm_load_print_meta: n_embd_head_k    = 128\n",
      "llm_load_print_meta: n_embd_head_v    = 128\n",
      "llm_load_print_meta: n_gqa            = 4\n",
      "llm_load_print_meta: n_embd_k_gqa     = 1024\n",
      "llm_load_print_meta: n_embd_v_gqa     = 1024\n",
      "llm_load_print_meta: f_norm_eps       = 0.0e+00\n",
      "llm_load_print_meta: f_norm_rms_eps   = 1.0e-05\n",
      "llm_load_print_meta: f_clamp_kqv      = 0.0e+00\n",
      "llm_load_print_meta: f_max_alibi_bias = 0.0e+00\n",
      "llm_load_print_meta: n_ff             = 14336\n",
      "llm_load_print_meta: n_expert         = 0\n",
      "llm_load_print_meta: n_expert_used    = 0\n",
      "llm_load_print_meta: rope scaling     = linear\n",
      "llm_load_print_meta: freq_base_train  = 10000.0\n",
      "llm_load_print_meta: freq_scale_train = 1\n",
      "llm_load_print_meta: n_yarn_orig_ctx  = 32768\n",
      "llm_load_print_meta: rope_finetuned   = unknown\n",
      "llm_load_print_meta: model type       = 7B\n",
      "llm_load_print_meta: model ftype      = Q5_K - Medium\n",
      "llm_load_print_meta: model params     = 7.24 B\n",
      "llm_load_print_meta: model size       = 4.78 GiB (5.67 BPW) \n",
      "llm_load_print_meta: general.name     = jeffq\n",
      "llm_load_print_meta: BOS token        = 1 '<s>'\n",
      "llm_load_print_meta: EOS token        = 32000 '<|im_end|>'\n",
      "llm_load_print_meta: UNK token        = 0 '<unk>'\n",
      "llm_load_print_meta: LF token         = 13 '<0x0A>'\n",
      "llm_load_tensors: ggml ctx size =    0.11 MiB\n",
      "llm_load_tensors:        CPU buffer size =  4893.18 MiB\n",
      "...................................................................................................\n",
      "llama_new_context_with_model: n_ctx      = 2048\n",
      "llama_new_context_with_model: freq_base  = 10000.0\n",
      "llama_new_context_with_model: freq_scale = 1\n",
      "llama_kv_cache_init:        CPU KV buffer size =   256.00 MiB\n",
      "llama_new_context_with_model: KV self size  =  256.00 MiB, K (f16):  128.00 MiB, V (f16):  128.00 MiB\n",
      "llama_new_context_with_model:        CPU input buffer size   =     0.20 MiB\n",
      "llama_new_context_with_model:        CPU compute buffer size =     2.50 MiB\n",
      "llama_new_context_with_model: graph splits (measure): 1\n",
      "AVX = 1 | AVX_VNNI = 0 | AVX2 = 1 | AVX512 = 0 | AVX512_VBMI = 0 | AVX512_VNNI = 0 | FMA = 1 | NEON = 0 | ARM_FMA = 0 | F16C = 1 | FP16_VA = 0 | WASM_SIMD = 0 | BLAS = 0 | SSE3 = 1 | SSSE3 = 1 | VSX = 0 | MATMUL_INT8 = 0 | \n",
      "Model metadata: {'tokenizer.chat_template': \"{% for message in messages %}{{'<|im_start|>' + message['role'] + '\\n' + message['content'] + '<|im_end|>' + '\\n'}}{% endfor %}{% if add_generation_prompt %}{{ '<|im_start|>assistant\\n' }}{% endif %}\", 'tokenizer.ggml.add_eos_token': 'false', 'tokenizer.ggml.eos_token_id': '32000', 'general.architecture': 'llama', 'llama.rope.freq_base': '10000.000000', 'llama.context_length': '32768', 'general.name': 'jeffq', 'tokenizer.ggml.add_bos_token': 'true', 'llama.embedding_length': '4096', 'llama.feed_forward_length': '14336', 'llama.attention.layer_norm_rms_epsilon': '0.000010', 'llama.rope.dimension_count': '128', 'tokenizer.ggml.bos_token_id': '1', 'llama.attention.head_count': '32', 'llama.block_count': '32', 'llama.attention.head_count_kv': '8', 'general.quantization_version': '2', 'tokenizer.ggml.model': 'llama', 'general.file_type': '17'}\n",
      "Guessed chat format: chatml\n"
     ]
    }
   ],
   "source": [
    "## Import functions\n",
    "import os\n",
    "import openpyxl\n",
    "import pandas as pd\n",
    "from datetime import datetime, timedelta\n",
    "import numpy as np\n",
    "import json\n",
    "from llm_demos.llama2.embeddings import llama_embed\n",
    "from llm_demos.llama2.gguf import importance_f, classification\n",
    "from llm_demos.llama2.class_prompt import classification_prompt\n",
    "from llm_demos.llama2.prompt1 import class_prompt\n",
    "from llm_demos.llama2.prompt2 import uptake_prompt\n",
    "from llm_demos.llama2.prompt3 import question_prompt\n",
    "from sklearn.metrics import confusion_matrix\n",
    "import seaborn as sns\n",
    "import matplotlib.pyplot as plt"
   ]
  },
  {
   "cell_type": "code",
   "execution_count": 4,
   "metadata": {},
   "outputs": [],
   "source": [
    "file_path = '/home/frattitamayo/memory_module/CodingDiscourseAnalysis/CollabWriteAnalysisTest.xlsm'\n",
    "\n",
    "# Load the Excel file\n",
    "df = pd.read_excel(file_path, sheet_name='Test', parse_dates=['Message Time'])\n",
    "observations = []\n",
    "times = []\n",
    "\n",
    "for index, row in df.iterrows():\n",
    "    # Construct the observation for each row\n",
    "    time_origin = row['Message Time']\n",
    "    origin = f\"Question: {row['Topic']}, Pseudonym: {row['Pseudonym']}\"\n",
    "    # origin = f\"{row['Pseudonym']}\"\n",
    "    value = row['Message']\n",
    "    observation = (time_origin, origin, value)\n",
    "    #observation = [(origin_1, value_1), (origin_2, value_2), ..., (origin_n, value_n)]\n",
    "    observations.append(observation)"
   ]
  },
  {
   "cell_type": "code",
   "execution_count": 5,
   "metadata": {},
   "outputs": [
    {
     "name": "stdout",
     "output_type": "stream",
     "text": [
      "[<__main__.Observation object at 0x79f1ad697d30>, <__main__.Observation object at 0x79f1ad694520>, <__main__.Observation object at 0x79f1ad6946a0>, <__main__.Observation object at 0x79f1ad694970>, <__main__.Observation object at 0x79f1ad694160>, <__main__.Observation object at 0x79f1ad694730>, <__main__.Observation object at 0x79f1ad695d20>, <__main__.Observation object at 0x79f1ad697220>, <__main__.Observation object at 0x79f1ad697880>]\n"
     ]
    }
   ],
   "source": [
    "class Observation:\n",
    "    def __init__(self, time_origin, origin, value, ): # Origin, Emitter, Value\n",
    "        self.time_origin = time_origin\n",
    "        self.origin = origin # Where it came from\n",
    "        self.value = value # What it contains\n",
    "\n",
    "    def __str__(self,): #{self.origin}\n",
    "        return \"{\"+ f\"[{self.time_origin}] {self.origin}: \\\"{self.value}\\\"\" + \"}\"\n",
    "    \n",
    "observations1 = [Observation(idx, origin, value) for idx, (time_origin, origin, value) in enumerate(observations)]\n",
    "print(observations1)"
   ]
  },
  {
   "cell_type": "code",
   "execution_count": 6,
   "metadata": {},
   "outputs": [
    {
     "name": "stdout",
     "output_type": "stream",
     "text": [
      "```json\n",
      "{\n",
      "    \"intent\": \"Deliberation\",\n",
      "    \"rationale\": \"The message 'What happens next? What is behind the door, the lady or the tiger? Part 2: Later, the King discovers that his daughter has broken the law. How does the King respond? What happens?' indicates a deliberation intent because it is seeking discussion and decision-making about the content.\"\n",
      "}\n",
      "```"
     ]
    },
    {
     "name": "stderr",
     "output_type": "stream",
     "text": [
      "\n",
      "llama_print_timings:        load time =     217.79 ms\n",
      "llama_print_timings:      sample time =      11.06 ms /    93 runs   (    0.12 ms per token,  8407.16 tokens per second)\n",
      "llama_print_timings: prompt eval time =   44626.99 ms /  1533 tokens (   29.11 ms per token,    34.35 tokens per second)\n",
      "llama_print_timings:        eval time =   13420.50 ms /    92 runs   (  145.87 ms per token,     6.86 tokens per second)\n",
      "llama_print_timings:       total time =   58495.91 ms /  1625 tokens\n",
      "Llama.generate: prefix-match hit\n"
     ]
    },
    {
     "name": "stdout",
     "output_type": "stream",
     "text": [
      "```json\n",
      "{\n",
      "    \"intent\": \"Deliberation\",\n",
      "    \"rationale\": \"The message 'My assumption is' indicates a discussion about interpretation or prediction of the content.\"\n",
      "}\n",
      "```"
     ]
    },
    {
     "name": "stderr",
     "output_type": "stream",
     "text": [
      "\n",
      "llama_print_timings:        load time =     217.79 ms\n",
      "llama_print_timings:      sample time =       5.41 ms /    46 runs   (    0.12 ms per token,  8510.64 tokens per second)\n",
      "llama_print_timings: prompt eval time =    4777.99 ms /   155 tokens (   30.83 ms per token,    32.44 tokens per second)\n",
      "llama_print_timings:        eval time =    6546.18 ms /    45 runs   (  145.47 ms per token,     6.87 tokens per second)\n",
      "llama_print_timings:       total time =   11450.29 ms /   200 tokens\n",
      "Llama.generate: prefix-match hit\n"
     ]
    },
    {
     "name": "stdout",
     "output_type": "stream",
     "text": [
      "```json\n",
      "{\n",
      "    \"intent\": \"Deliberation\",\n",
      "    \"rationale\": \"The message \"that the emphasis on barbarism implies that she sent him to the lion.\" is an interpretation of the content and therefore fits in the Deliberation category.\"\n",
      "}\n",
      "```"
     ]
    },
    {
     "name": "stderr",
     "output_type": "stream",
     "text": [
      "\n",
      "llama_print_timings:        load time =     217.79 ms\n",
      "llama_print_timings:      sample time =       7.61 ms /    63 runs   (    0.12 ms per token,  8275.32 tokens per second)\n",
      "llama_print_timings: prompt eval time =    5128.45 ms /   165 tokens (   31.08 ms per token,    32.17 tokens per second)\n",
      "llama_print_timings:        eval time =    9040.63 ms /    62 runs   (  145.82 ms per token,     6.86 tokens per second)\n",
      "llama_print_timings:       total time =   14345.91 ms /   227 tokens\n"
     ]
    },
    {
     "name": "stdout",
     "output_type": "stream",
     "text": [
      "``"
     ]
    },
    {
     "name": "stderr",
     "output_type": "stream",
     "text": [
      "Llama.generate: prefix-match hit\n"
     ]
    },
    {
     "name": "stdout",
     "output_type": "stream",
     "text": [
      "`json\n",
      "{\n",
      "    \"intent\": \"Deliberation\",\n",
      "    \"rationale\": \"The message \"that the emphasis on barbarism implies that she sent him to the lion.\" is a response to the question about interpretation or meaning of the content.\"\n",
      "}\n",
      "```"
     ]
    },
    {
     "name": "stderr",
     "output_type": "stream",
     "text": [
      "\n",
      "llama_print_timings:        load time =     217.79 ms\n",
      "llama_print_timings:      sample time =       7.31 ms /    61 runs   (    0.12 ms per token,  8343.59 tokens per second)\n",
      "llama_print_timings: prompt eval time =       0.00 ms /     1 tokens (    0.00 ms per token,      inf tokens per second)\n",
      "llama_print_timings:        eval time =    8888.23 ms /    61 runs   (  145.71 ms per token,     6.86 tokens per second)\n",
      "llama_print_timings:       total time =    9037.06 ms /    62 tokens\n"
     ]
    },
    {
     "name": "stdout",
     "output_type": "stream",
     "text": [
      "``"
     ]
    },
    {
     "name": "stderr",
     "output_type": "stream",
     "text": [
      "Llama.generate: prefix-match hit\n"
     ]
    },
    {
     "name": "stdout",
     "output_type": "stream",
     "text": [
      "`json\n",
      "{\n",
      "    \"intent\": \"Deliberation\",\n",
      "    \"rationale\": \"The message \"that the emphasis on barbarism implies that she sent him to the lion.\" is a deliberation because it discusses the interpretation and meaning of the content.\"\n",
      "}\n",
      "```"
     ]
    },
    {
     "name": "stderr",
     "output_type": "stream",
     "text": [
      "\n",
      "llama_print_timings:        load time =     217.79 ms\n",
      "llama_print_timings:      sample time =       7.54 ms /    63 runs   (    0.12 ms per token,  8353.22 tokens per second)\n",
      "llama_print_timings: prompt eval time =       0.00 ms /     1 tokens (    0.00 ms per token,      inf tokens per second)\n",
      "llama_print_timings:        eval time =    9176.26 ms /    63 runs   (  145.65 ms per token,     6.87 tokens per second)\n",
      "llama_print_timings:       total time =    9331.26 ms /    64 tokens\n"
     ]
    },
    {
     "name": "stdout",
     "output_type": "stream",
     "text": [
      "``"
     ]
    },
    {
     "name": "stderr",
     "output_type": "stream",
     "text": [
      "Llama.generate: prefix-match hit\n"
     ]
    },
    {
     "name": "stdout",
     "output_type": "stream",
     "text": [
      "`json\n",
      "{\n",
      "    \"intent\": \"Deliberation\",\n",
      "    \"rationale\": \"The message \"that the emphasis on barbarism implies that she sent him to the lion.\" is an interpretation and deliberation about the content.\"\n",
      "}\n",
      "```"
     ]
    },
    {
     "name": "stderr",
     "output_type": "stream",
     "text": [
      "\n",
      "llama_print_timings:        load time =     217.79 ms\n",
      "llama_print_timings:      sample time =       6.83 ms /    57 runs   (    0.12 ms per token,  8339.43 tokens per second)\n",
      "llama_print_timings: prompt eval time =       0.00 ms /     1 tokens (    0.00 ms per token,      inf tokens per second)\n",
      "llama_print_timings:        eval time =    8309.79 ms /    57 runs   (  145.79 ms per token,     6.86 tokens per second)\n",
      "llama_print_timings:       total time =    8451.11 ms /    58 tokens\n"
     ]
    },
    {
     "name": "stdout",
     "output_type": "stream",
     "text": [
      "``"
     ]
    },
    {
     "name": "stderr",
     "output_type": "stream",
     "text": [
      "Llama.generate: prefix-match hit\n"
     ]
    },
    {
     "name": "stdout",
     "output_type": "stream",
     "text": [
      "`json\n",
      "{\n",
      "    \"intent\": \"Deliberation\",\n",
      "    \"rationale\": \"The message \"that the emphasis on barbarism implies that she sent him to the lion.\" is an interpretation and deliberation of the content.\"\n",
      "}\n",
      "```"
     ]
    },
    {
     "name": "stderr",
     "output_type": "stream",
     "text": [
      "\n",
      "llama_print_timings:        load time =     217.79 ms\n",
      "llama_print_timings:      sample time =       6.79 ms /    57 runs   (    0.12 ms per token,  8393.46 tokens per second)\n",
      "llama_print_timings: prompt eval time =       0.00 ms /     1 tokens (    0.00 ms per token,      inf tokens per second)\n",
      "llama_print_timings:        eval time =    8308.57 ms /    57 runs   (  145.76 ms per token,     6.86 tokens per second)\n",
      "llama_print_timings:       total time =    8447.01 ms /    58 tokens\n"
     ]
    },
    {
     "name": "stdout",
     "output_type": "stream",
     "text": [
      "``"
     ]
    },
    {
     "name": "stderr",
     "output_type": "stream",
     "text": [
      "Llama.generate: prefix-match hit\n"
     ]
    },
    {
     "name": "stdout",
     "output_type": "stream",
     "text": [
      "`json\n",
      "{\n",
      "    \"intent\": \"Deliberation\",\n",
      "    \"rationale\": \"The message \"that the emphasis on barbarism implies that she sent him to the lion.\" is a deliberation because it discusses the interpretation of content and offers an explanation based on the context.\"\n",
      "}\n",
      "```"
     ]
    },
    {
     "name": "stderr",
     "output_type": "stream",
     "text": [
      "\n",
      "llama_print_timings:        load time =     217.79 ms\n",
      "llama_print_timings:      sample time =       8.07 ms /    68 runs   (    0.12 ms per token,  8430.45 tokens per second)\n",
      "llama_print_timings: prompt eval time =       0.00 ms /     1 tokens (    0.00 ms per token,      inf tokens per second)\n",
      "llama_print_timings:        eval time =    9909.79 ms /    68 runs   (  145.73 ms per token,     6.86 tokens per second)\n",
      "llama_print_timings:       total time =   10074.47 ms /    69 tokens\n"
     ]
    },
    {
     "name": "stdout",
     "output_type": "stream",
     "text": [
      "``"
     ]
    },
    {
     "name": "stderr",
     "output_type": "stream",
     "text": [
      "Llama.generate: prefix-match hit\n"
     ]
    },
    {
     "name": "stdout",
     "output_type": "stream",
     "text": [
      "`json\n",
      "{\n",
      "    \"intent\": \"Deliberation\",\n",
      "    \"rationale\": \"The message \"that the emphasis on barbarism implies that she sent him to the lion.\" is an interpretation and deliberation of the content.\"\n",
      "}\n",
      "```"
     ]
    },
    {
     "name": "stderr",
     "output_type": "stream",
     "text": [
      "\n",
      "llama_print_timings:        load time =     217.79 ms\n",
      "llama_print_timings:      sample time =       6.66 ms /    57 runs   (    0.12 ms per token,  8557.27 tokens per second)\n",
      "llama_print_timings: prompt eval time =       0.00 ms /     1 tokens (    0.00 ms per token,      inf tokens per second)\n",
      "llama_print_timings:        eval time =    8295.76 ms /    57 runs   (  145.54 ms per token,     6.87 tokens per second)\n",
      "llama_print_timings:       total time =    8431.45 ms /    58 tokens\n"
     ]
    },
    {
     "name": "stdout",
     "output_type": "stream",
     "text": [
      "``"
     ]
    },
    {
     "name": "stderr",
     "output_type": "stream",
     "text": [
      "Llama.generate: prefix-match hit\n"
     ]
    },
    {
     "name": "stdout",
     "output_type": "stream",
     "text": [
      "`json\n",
      "{\n",
      "    \"intent\": \"Deliberation\",\n",
      "    \"rationale\": \"The message \"that the emphasis on barbarism implies that she sent him to the lion.\" is a deliberation because it discusses interpretation and meaning of content.\"\n",
      "}\n",
      "```"
     ]
    },
    {
     "name": "stderr",
     "output_type": "stream",
     "text": [
      "\n",
      "llama_print_timings:        load time =     217.79 ms\n",
      "llama_print_timings:      sample time =       7.20 ms /    61 runs   (    0.12 ms per token,  8471.05 tokens per second)\n",
      "llama_print_timings: prompt eval time =       0.00 ms /     1 tokens (    0.00 ms per token,      inf tokens per second)\n",
      "llama_print_timings:        eval time =    8876.15 ms /    61 runs   (  145.51 ms per token,     6.87 tokens per second)\n",
      "llama_print_timings:       total time =    9021.53 ms /    62 tokens\n"
     ]
    },
    {
     "name": "stdout",
     "output_type": "stream",
     "text": [
      "``"
     ]
    },
    {
     "name": "stderr",
     "output_type": "stream",
     "text": [
      "Llama.generate: prefix-match hit\n"
     ]
    },
    {
     "name": "stdout",
     "output_type": "stream",
     "text": [
      "`json\n",
      "{\n",
      "    \"intent\": \"Deliberation\",\n",
      "    \"rationale\": \"The message \\\"that the emphasis on barbarism implies that she sent him to the lion.\\\" is an interpretation and deliberation about the content.\"\n",
      "}\n",
      "```"
     ]
    },
    {
     "name": "stderr",
     "output_type": "stream",
     "text": [
      "\n",
      "llama_print_timings:        load time =     217.79 ms\n",
      "llama_print_timings:      sample time =       6.94 ms /    58 runs   (    0.12 ms per token,  8359.76 tokens per second)\n",
      "llama_print_timings: prompt eval time =       0.00 ms /     1 tokens (    0.00 ms per token,      inf tokens per second)\n",
      "llama_print_timings:        eval time =    8468.77 ms /    58 runs   (  146.01 ms per token,     6.85 tokens per second)\n",
      "llama_print_timings:       total time =    8614.52 ms /    59 tokens\n",
      "Llama.generate: prefix-match hit\n"
     ]
    },
    {
     "name": "stdout",
     "output_type": "stream",
     "text": [
      "```json\n",
      "{\n",
      "    \"intent\": \"Deliberation\",\n",
      "    \"rationale\": \"The message \"I agree with Cassandra's noticing \"} relates to deliberation because it discusses agreeing with a previous interpretation or comment made in the discussion.\"\n",
      "}\n",
      "```"
     ]
    },
    {
     "name": "stderr",
     "output_type": "stream",
     "text": [
      "\n",
      "llama_print_timings:        load time =     217.79 ms\n",
      "llama_print_timings:      sample time =       7.71 ms /    64 runs   (    0.12 ms per token,  8301.98 tokens per second)\n",
      "llama_print_timings: prompt eval time =    5362.91 ms /   172 tokens (   31.18 ms per token,    32.07 tokens per second)\n",
      "llama_print_timings:        eval time =    9175.77 ms /    63 runs   (  145.65 ms per token,     6.87 tokens per second)\n",
      "llama_print_timings:       total time =   14728.04 ms /   235 tokens\n"
     ]
    },
    {
     "name": "stdout",
     "output_type": "stream",
     "text": [
      "``"
     ]
    },
    {
     "name": "stderr",
     "output_type": "stream",
     "text": [
      "Llama.generate: prefix-match hit\n"
     ]
    },
    {
     "name": "stdout",
     "output_type": "stream",
     "text": [
      "`json\n",
      "{\n",
      "    \"intent\": \"Deliberation\",\n",
      "    \"rationale\": \"The message \"I agree with Cassandra's noticing \"} relates to a deliberation intent because it builds upon Cassandra's previous interpretation and contributes to further discussion.\"\n",
      "}\n",
      "```"
     ]
    },
    {
     "name": "stderr",
     "output_type": "stream",
     "text": [
      "\n",
      "llama_print_timings:        load time =     217.79 ms\n",
      "llama_print_timings:      sample time =       7.80 ms /    66 runs   (    0.12 ms per token,  8457.20 tokens per second)\n",
      "llama_print_timings: prompt eval time =       0.00 ms /     1 tokens (    0.00 ms per token,      inf tokens per second)\n",
      "llama_print_timings:        eval time =    9618.21 ms /    66 runs   (  145.73 ms per token,     6.86 tokens per second)\n",
      "llama_print_timings:       total time =    9777.64 ms /    67 tokens\n"
     ]
    },
    {
     "name": "stdout",
     "output_type": "stream",
     "text": [
      "``"
     ]
    },
    {
     "name": "stderr",
     "output_type": "stream",
     "text": [
      "Llama.generate: prefix-match hit\n"
     ]
    },
    {
     "name": "stdout",
     "output_type": "stream",
     "text": [
      "`json\n",
      "{\n",
      "    \"intent\": \"Deliberation\",\n",
      "    \"rationale\": \"The message \\\"I agree with Cassandra's noticing \\\" is in response to Cassandra's interpretation, indicating a deliberation on the meaning or interpretation of content.\"\n",
      "}\n",
      "```"
     ]
    },
    {
     "name": "stderr",
     "output_type": "stream",
     "text": [
      "\n",
      "llama_print_timings:        load time =     217.79 ms\n",
      "llama_print_timings:      sample time =       7.42 ms /    63 runs   (    0.12 ms per token,  8490.57 tokens per second)\n",
      "llama_print_timings: prompt eval time =       0.00 ms /     1 tokens (    0.00 ms per token,      inf tokens per second)\n",
      "llama_print_timings:        eval time =    9173.41 ms /    63 runs   (  145.61 ms per token,     6.87 tokens per second)\n",
      "llama_print_timings:       total time =    9324.55 ms /    64 tokens\n",
      "Llama.generate: prefix-match hit\n"
     ]
    },
    {
     "name": "stdout",
     "output_type": "stream",
     "text": [
      "```json\n",
      "{\n",
      "    \"intent\": \"Seminar\",\n",
      "    \"rationale\": \"The message 'of the author's word choice of barbarism.' relates to interpreting the content, hence falls under the Seminar intent.\"\n",
      "}\n",
      "```"
     ]
    },
    {
     "name": "stderr",
     "output_type": "stream",
     "text": [
      "\n",
      "llama_print_timings:        load time =     217.79 ms\n",
      "llama_print_timings:      sample time =       7.02 ms /    59 runs   (    0.12 ms per token,  8406.95 tokens per second)\n",
      "llama_print_timings: prompt eval time =    5112.43 ms /   168 tokens (   30.43 ms per token,    32.86 tokens per second)\n",
      "llama_print_timings:        eval time =    8438.41 ms /    58 runs   (  145.49 ms per token,     6.87 tokens per second)\n",
      "llama_print_timings:       total time =   13725.04 ms /   226 tokens\n",
      "Llama.generate: prefix-match hit\n"
     ]
    },
    {
     "name": "stdout",
     "output_type": "stream",
     "text": [
      "```json\n",
      "{\n",
      "    \"intent\": \"Procedure\",\n",
      "    \"rationale\": \"The message \"Part 1: What happens next? What is behind the door, the lady or the tiger? Part 2: Later, the King discovers that his daughter has broken the law. How does the King respond? What happens?\" relates to a procedure intent because it's asking for actions or events that will follow a certain situation.\"\n",
      "}\n",
      "```"
     ]
    },
    {
     "name": "stderr",
     "output_type": "stream",
     "text": [
      "\n",
      "llama_print_timings:        load time =     217.79 ms\n",
      "llama_print_timings:      sample time =      11.86 ms /   100 runs   (    0.12 ms per token,  8429.57 tokens per second)\n",
      "llama_print_timings: prompt eval time =    5130.28 ms /   163 tokens (   31.47 ms per token,    31.77 tokens per second)\n",
      "llama_print_timings:        eval time =   14447.32 ms /    99 runs   (  145.93 ms per token,     6.85 tokens per second)\n",
      "llama_print_timings:       total time =   19848.46 ms /   262 tokens\n"
     ]
    },
    {
     "name": "stdout",
     "output_type": "stream",
     "text": [
      "``"
     ]
    },
    {
     "name": "stderr",
     "output_type": "stream",
     "text": [
      "Llama.generate: prefix-match hit\n"
     ]
    },
    {
     "name": "stdout",
     "output_type": "stream",
     "text": [
      "`json\n",
      "{\n",
      "    \"intent\": \"UX\",\n",
      "    \"rationale\": \"The message 'I loved the addition of \"' relates to user's opinion about the IMapBook interface or media, which falls under the UX category.\"\n",
      "}\n",
      "```"
     ]
    },
    {
     "name": "stderr",
     "output_type": "stream",
     "text": [
      "\n",
      "llama_print_timings:        load time =     217.79 ms\n",
      "llama_print_timings:      sample time =       6.94 ms /    59 runs   (    0.12 ms per token,  8507.57 tokens per second)\n",
      "llama_print_timings: prompt eval time =       0.00 ms /     1 tokens (    0.00 ms per token,      inf tokens per second)\n",
      "llama_print_timings:        eval time =    8602.96 ms /    59 runs   (  145.81 ms per token,     6.86 tokens per second)\n",
      "llama_print_timings:       total time =    8745.88 ms /    60 tokens\n"
     ]
    },
    {
     "name": "stdout",
     "output_type": "stream",
     "text": [
      "``"
     ]
    },
    {
     "name": "stderr",
     "output_type": "stream",
     "text": [
      "Llama.generate: prefix-match hit\n"
     ]
    },
    {
     "name": "stdout",
     "output_type": "stream",
     "text": [
      "`json\n",
      "{\n",
      "    \"intent\": \"UX\",\n",
      "    \"rationale\": \"The message \\\"I loved the addition of \\\" is expressing an opinion about the addition made by Marissa Roswell in the context, which relates to user experience (UX).\"\n",
      "}\n",
      "```"
     ]
    },
    {
     "name": "stderr",
     "output_type": "stream",
     "text": [
      "\n",
      "llama_print_timings:        load time =     217.79 ms\n",
      "llama_print_timings:      sample time =       7.48 ms /    63 runs   (    0.12 ms per token,  8417.96 tokens per second)\n",
      "llama_print_timings: prompt eval time =       0.00 ms /     1 tokens (    0.00 ms per token,      inf tokens per second)\n",
      "llama_print_timings:        eval time =    9171.55 ms /    63 runs   (  145.58 ms per token,     6.87 tokens per second)\n",
      "llama_print_timings:       total time =    9330.04 ms /    64 tokens\n",
      "Llama.generate: prefix-match hit\n"
     ]
    },
    {
     "name": "stdout",
     "output_type": "stream",
     "text": [
      "```json\n",
      "{\n",
      "    \"intent\": \"Seminar\",\n",
      "    \"rationale\": \"The message 'Her lover would die and never love another.' indicates interpretation or discussion about the content.\"\n",
      "}\n",
      "```"
     ]
    },
    {
     "name": "stderr",
     "output_type": "stream",
     "text": [
      "\n",
      "llama_print_timings:        load time =     217.79 ms\n",
      "llama_print_timings:      sample time =       5.61 ms /    47 runs   (    0.12 ms per token,  8382.38 tokens per second)\n",
      "llama_print_timings: prompt eval time =    4829.80 ms /   160 tokens (   30.19 ms per token,    33.13 tokens per second)\n",
      "llama_print_timings:        eval time =    6699.50 ms /    46 runs   (  145.64 ms per token,     6.87 tokens per second)\n",
      "llama_print_timings:       total time =   11674.68 ms /   206 tokens\n",
      "Llama.generate: prefix-match hit\n"
     ]
    },
    {
     "name": "stdout",
     "output_type": "stream",
     "text": [
      "```json\n",
      "{\n",
      "    \"intent\": \"Deliberation\",\n",
      "    \"rationale\": \"The message \\\"Sadly the barbaric nature of the king and princess is still alive today in crimes of passion.\\\" relates to a deliberation content as it discusses an interpretation of the content and its relation to current society.\"\n",
      "}\n",
      "```"
     ]
    },
    {
     "name": "stderr",
     "output_type": "stream",
     "text": [
      "\n",
      "llama_print_timings:        load time =     217.79 ms\n",
      "llama_print_timings:      sample time =       9.14 ms /    77 runs   (    0.12 ms per token,  8423.59 tokens per second)\n",
      "llama_print_timings: prompt eval time =    5339.62 ms /   176 tokens (   30.34 ms per token,    32.96 tokens per second)\n",
      "llama_print_timings:        eval time =   11225.24 ms /    77 runs   (  145.78 ms per token,     6.86 tokens per second)\n",
      "llama_print_timings:       total time =   16788.76 ms /   253 tokens\n",
      "Llama.generate: prefix-match hit\n"
     ]
    },
    {
     "name": "stdout",
     "output_type": "stream",
     "text": [
      "```json\n",
      "{\n",
      "    \"intent\": \"Procedure\",\n",
      "    \"rationale\": \"The message 'Submitted' indicates an action related to completing a task or assignment, which relates to the procedure intent.\"\n",
      "}\n",
      "```"
     ]
    },
    {
     "name": "stderr",
     "output_type": "stream",
     "text": [
      "\n",
      "llama_print_timings:        load time =     217.79 ms\n",
      "llama_print_timings:      sample time =       6.17 ms /    52 runs   (    0.12 ms per token,  8422.42 tokens per second)\n",
      "llama_print_timings: prompt eval time =    5218.38 ms /   170 tokens (   30.70 ms per token,    32.58 tokens per second)\n",
      "llama_print_timings:        eval time =    7434.68 ms /    51 runs   (  145.78 ms per token,     6.86 tokens per second)\n",
      "llama_print_timings:       total time =   12812.19 ms /   221 tokens\n"
     ]
    }
   ],
   "source": [
    "def previousDirectionalWindow(observations):\n",
    "    results = []\n",
    "    for indx, (obs) in enumerate(observations):\n",
    "        temp_prompt = class_prompt.replace(\"$MESSAGE$\", observations[indx].__str__())\n",
    "        if indx != 0:\n",
    "            temp_prompt = temp_prompt.replace(\"$CONTEXT$\", observations[indx-1].__str__())\n",
    "        else:\n",
    "            temp_prompt = temp_prompt.replace(\"$CONTEXT$\", \"No context\")\n",
    "        result = classification(temp_prompt)\n",
    "        results.append(result)\n",
    "    return results\n",
    "f_result = previousDirectionalWindow(observations1)"
   ]
  },
  {
   "cell_type": "code",
   "execution_count": 7,
   "metadata": {},
   "outputs": [
    {
     "name": "stdout",
     "output_type": "stream",
     "text": [
      "['Deliberation', 'Deliberation', 'Deliberation', 'Deliberation', 'Seminar', 'UX', 'Seminar', 'Deliberation', 'Procedure']\n"
     ]
    }
   ],
   "source": [
    "print(f_result)"
   ]
  },
  {
   "cell_type": "markdown",
   "metadata": {},
   "source": [
    "# Test"
   ]
  },
  {
   "cell_type": "code",
   "execution_count": 9,
   "metadata": {},
   "outputs": [
    {
     "name": "stdout",
     "output_type": "stream",
     "text": [
      "['Social', 'Seminar', 'Seminar', 'Seminar', 'Seminar', 'Seminar', 'Seminar', 'Seminar', 'Procedure']\n"
     ]
    }
   ],
   "source": [
    "file_path = '/home/frattitamayo/memory_module/CodingDiscourseAnalysis/CollabWriteAnalysisTest.xlsm'\n",
    "\n",
    "# Load the Excel file\n",
    "df = pd.read_excel(file_path, sheet_name='Test', parse_dates=['Message Time'])\n",
    "y_true = []\n",
    "for index, row in df.iterrows():\n",
    "    val = row['R2DiscussionType']\n",
    "    y_true.append(val)\n",
    "print (y_true)"
   ]
  },
  {
   "cell_type": "code",
   "execution_count": 13,
   "metadata": {},
   "outputs": [],
   "source": [
    "\n",
    "y_pred = f_result"
   ]
  },
  {
   "cell_type": "code",
   "execution_count": 14,
   "metadata": {},
   "outputs": [
    {
     "data": {
      "image/png": "[encoded data removed]",
      "text/plain": [
       "<Figure size 600x400 with 2 Axes>"
      ]
     },
     "metadata": {},
     "output_type": "display_data"
    }
   ],
   "source": [
    "# Create the confusion matrix\n",
    "cm = confusion_matrix(y_true, y_pred, labels=[\"UX\", \"Social\", \"Procedure\", \"Deliberation\", \"Seminar\", \"Imaginative entry\", \"Disciplinary\", \"Other\"])\n",
    "\n",
    "# Create a heatmap using seaborn\n",
    "plt.figure(figsize=(6, 4))\n",
    "sns.heatmap(cm, annot=True, cmap=\"Blues\", fmt=\"d\", xticklabels=[\"UX\", \"Social\", \"Procedure\", \"Deliberation\", \"Seminar\", \"Imaginative entry\", \"Disciplinary\", \"Other\"], yticklabels=[\"UX\", \"Social\", \"Procedure\", \"Deliberation\", \"Seminar\", \"Imaginative entry\", \"Disciplinary\", \"Other\"])\n",
    "\n",
    "# Add labels and title\n",
    "plt.xlabel(\"Predicted Labels\")\n",
    "plt.ylabel(\"True Labels\")\n",
    "plt.title(\"Zero context, class\")\n",
    "\n",
    "# Show the plot\n",
    "plt.show()"
   ]
  }
 ],
 "metadata": {
  "kernelspec": {
   "display_name": "llama2",
   "language": "python",
   "name": "python3"
  },
  "language_info": {
   "codemirror_mode": {
    "name": "ipython",
    "version": 3
   },
   "file_extension": ".py",
   "mimetype": "text/x-python",
   "name": "python",
   "nbconvert_exporter": "python",
   "pygments_lexer": "ipython3",
   "version": "3.10.6"
  }
 },
 "nbformat": 4,
 "nbformat_minor": 2
}
